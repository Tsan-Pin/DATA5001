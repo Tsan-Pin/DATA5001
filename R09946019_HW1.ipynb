{
 "cells": [
  {
   "cell_type": "code",
   "execution_count": 10,
   "metadata": {
    "id": "eLrlSEEPmojP"
   },
   "outputs": [],
   "source": [
    "import math\n",
    "import random as rd \n",
    "from numpy import linalg as LA\n",
    "import numpy as np\n",
    "from numpy.linalg import inv"
   ]
  },
  {
   "cell_type": "code",
   "execution_count": 32,
   "metadata": {
    "id": "RdwFbClxa3ar"
   },
   "outputs": [],
   "source": [
    "def objective(x_1,x_2):\n",
    "    return (3*x_1 + 14*x_2 - 17)**2 + (6*x_1 +7*x_2 - 19)**2\n",
    "       \n",
    "def gradient(x_1,x_2):\n",
    "    return[(90*x_1+168*x_2-330),168*x_1+490*x_2-742]"
   ]
  },
  {
   "cell_type": "markdown",
   "metadata": {
    "id": "ftkabVuXa8h7"
   },
   "source": [
    "# 1. Exhaustive Enumeration."
   ]
  },
  {
   "cell_type": "code",
   "execution_count": 33,
   "metadata": {
    "colab": {
     "base_uri": "https://localhost:8080/"
    },
    "id": "E8pcqyH5bKGx",
    "outputId": "f50e5ead-35a8-424f-f633-b1919cc86b13"
   },
   "outputs": [
    {
     "name": "stdout",
     "output_type": "stream",
     "text": [
      "Minimum numbers: 0.0017 x_1: 2.34 x_2: 0.71\n"
     ]
    },
    {
     "data": {
      "text/plain": [
       "array([2.34e+00, 7.10e-01, 1.70e-03])"
      ]
     },
     "execution_count": 33,
     "metadata": {
      "tags": []
     },
     "output_type": "execute_result"
    }
   ],
   "source": [
    "def ExhaustiveEnumeration():\n",
    "    minimum = math.inf\n",
    "    x_1 = -6.00\n",
    "    x_2 = -6.00\n",
    "    a = 0\n",
    "    b = 0\n",
    "    while(x_1 <= 6.00):\n",
    "        x_2 = -6.00\n",
    "        while(x_2 <= 6.00):\n",
    "            if (objective(x_1,x_2) < minimum):\n",
    "                minimum = round(objective(x_1,x_2),4)\n",
    "                a = round(x_1,2)\n",
    "                b = round(x_2,2)\n",
    "            x_2 = x_2 + 0.01\n",
    "        x_1 = x_1 + 0.01\n",
    "    print(\"Minimum numbers:\",minimum,\"x_1:\",a,\"x_2:\",b)\n",
    "    \n",
    "    return np.array([a,b,minimum])\n",
    "ExhaustiveEnumeration()"
   ]
  },
  {
   "cell_type": "markdown",
   "metadata": {
    "id": "iZ3ORFPUbGyA"
   },
   "source": [
    "# 2. Random Methods."
   ]
  },
  {
   "cell_type": "markdown",
   "metadata": {
    "id": "-SJbOVJXcdiH"
   },
   "source": [
    "(a)Random jump"
   ]
  },
  {
   "cell_type": "code",
   "execution_count": 36,
   "metadata": {
    "colab": {
     "base_uri": "https://localhost:8080/"
    },
    "id": "PTR8_eXiboV_",
    "outputId": "52b62e5f-b156-452b-ff1c-3feeb7586cfb"
   },
   "outputs": [
    {
     "name": "stdout",
     "output_type": "stream",
     "text": [
      "Minimum numbers: 0.0017 x_1: 2.34 x_2: 0.71\n",
      "x_1: 2.3290444327093542 x_2: 0.7520829688156265\n",
      "iteration T: 7521 optimal solution: 0.3236084540206634\n"
     ]
    }
   ],
   "source": [
    "def RandomJump(obj):\n",
    "    l = -6\n",
    "    u = 6\n",
    "    t = 0\n",
    "    x = np.array([math.inf,math.inf])\n",
    "    while LA.norm((x-obj[0:2]),2) >= 0.05:\n",
    "        r_1 = rd.random()\n",
    "        r_2 = rd.random()\n",
    "        x = [r_1*(u-l)-6, r_2*(u-l)-6]\n",
    "        t += 1\n",
    "    print(\"x_1:\",x[0],\"x_2:\",x[1])\n",
    "    print('iteration T:',t,'optimal solution:',objective(x[0],x[1]))\n",
    "RandomJump(ExhaustiveEnumeration()[0:2])"
   ]
  },
  {
   "cell_type": "markdown",
   "metadata": {
    "id": "RXqABADNcmP_"
   },
   "source": [
    "(b)Random Walk"
   ]
  },
  {
   "cell_type": "code",
   "execution_count": 38,
   "metadata": {
    "colab": {
     "base_uri": "https://localhost:8080/"
    },
    "id": "Gbb9DJxDcvMr",
    "outputId": "4be3584d-33de-486c-a67d-9fd0928c0e60"
   },
   "outputs": [
    {
     "name": "stdout",
     "output_type": "stream",
     "text": [
      "iteration: 539 ,[x_1,x_2]: [1.91878601 0.7857522 ] optimal 4.007345600749693\n"
     ]
    }
   ],
   "source": [
    "def RandomWalk(λ,ε,N):\n",
    "    x = np.zeros(2)\n",
    "    minimum = math.inf\n",
    "    iteration = 0 \n",
    "    while (λ >= ε):\n",
    "        t = 0\n",
    "        while (t <= N):\n",
    "            r_1 = rd.uniform(-1,1)\n",
    "            r_2 = rd.uniform(-1,1)\n",
    "            v = np.array([r_1,r_2])/LA.norm(np.array([r_1,r_2]),2)\n",
    "            x_temp = x + v\n",
    "            if (objective(x_temp[0],x_temp[1]) < minimum):\n",
    "                x = x_temp.copy()\n",
    "                minimum = objective(x[0],x[1])\n",
    "                t = 0 \n",
    "            iteration +=1\n",
    "            t+=1\n",
    "        λ = λ/2\n",
    "    print(\"iteration:\",iteration,\",[x_1,x_2]:\",x,\"optimal\",objective(x[0],x[1]))\n",
    "RandomWalk(1,0.05,100)"
   ]
  },
  {
   "cell_type": "markdown",
   "metadata": {
    "id": "czKgVXdkc5zD"
   },
   "source": [
    "# Steepest Descent Method "
   ]
  },
  {
   "cell_type": "code",
   "execution_count": null,
   "metadata": {
    "id": "0lHqMv_LmqRN"
   },
   "outputs": [],
   "source": [
    "def SteepestDescent():    \n",
    "    t = 1\n",
    "    x =[0,0]\n",
    "    λ = 1    \n",
    "    while(λ != 0):\n",
    "        a = -(np.dot([9,21],gradient(x[0],x[1]))) \n",
    "        gra = gradient(x[0],x[1])\n",
    "        b =((np.dot([3,14],x)-17))*(np.dot([3,14],gra))\n",
    "        c = (np.dot([6,7],x)-19)*np.dot([6,7],gra)\n",
    "        λ =  a/2*(b+c)\n",
    "        t += 1\n",
    "        x =  x + [λ*gradient(x[0],x[1])[0],λ*gradient(x[0],x[1])[1]]\n",
    "    print(\"iteration t:\",t,\"optimal:\",objective(x[0],x[1]))"
   ]
  },
  {
   "cell_type": "markdown",
   "metadata": {
    "id": "4JlpJymAaBOK"
   },
   "source": [
    "#4.Variable Scaling \n"
   ]
  },
  {
   "cell_type": "code",
   "execution_count": null,
   "metadata": {
    "id": "i8MKomZGaGUq"
   },
   "outputs": [],
   "source": [
    "A = np.mat([[90,168],[168,490]])\n",
    "eigenvectors = np.linalg.eig(A)\n",
    "Dig_A =np.dot( np.dot(inv(eigenvectors[1]),A),eigenvectors[1])\n",
    "s = inv(Dig_A)\n",
    "T = np.dot(eigenvectors[1],s)"
   ]
  },
  {
   "cell_type": "markdown",
   "metadata": {
    "id": "xjXc3ODvdABG"
   },
   "source": []
  },
  {
   "cell_type": "markdown",
   "metadata": {
    "id": "XA81SFiVaNMg"
   },
   "source": [
    "$A =\\left[\n",
    " \\begin{matrix}\n",
    "   45 & 84 \\\\\n",
    "    84 & 245 \\\\\n",
    "  \\end{matrix}\n",
    "  \\right] $\n",
    "\n",
    "\n",
    "transformation matrix $T =\\left[\n",
    " \\begin{matrix}\n",
    "   -27.06313551 & -188.65732611 \\\\\n",
    "    9.8582696 & -517.90618313 \\\\\n",
    "  \\end{matrix}\n",
    "  \\right] $"
   ]
  },
  {
   "cell_type": "markdown",
   "metadata": {
    "id": "Yi-ag-WemMNB"
   },
   "source": [
    "# StimulatedAnnealing"
   ]
  },
  {
   "cell_type": "code",
   "execution_count": 42,
   "metadata": {
    "colab": {
     "base_uri": "https://localhost:8080/"
    },
    "id": "Zz_JQI8fGwyY",
    "outputId": "6866a3e1-2acd-4c4d-dc53-f31f06e76dc5"
   },
   "outputs": [
    {
     "data": {
      "text/plain": [
       "0.009706169761347118"
      ]
     },
     "execution_count": 42,
     "metadata": {
      "tags": []
     },
     "output_type": "execute_result"
    }
   ],
   "source": [
    "\n",
    "def StimulatedAnnealing():\n",
    "    obj = 0\n",
    "    for i in range (5):\n",
    "        l = -6\n",
    "        u = 6   \n",
    "        r_1 = rd.random()\n",
    "        r_2 = rd.random()\n",
    "        x = [r_1*(u-l)-6, r_2*(u-l)-6]\n",
    "        obj += objective(x[0],x[1])\n",
    "    obj = obj/5\n",
    "    x = [r_1*(u-l)-6, r_2*(u-l)-6]\n",
    "    temp = objective(x[0],x[1])\n",
    "    \n",
    "    t = 0 \n",
    "    for i in range(1000):\n",
    "\n",
    "        new_i = x[0] + rd.random()*(-1)**rd.randint(0,1)\n",
    "        new_j = x[1] + rd.random()*(-1)**rd.randint(0,1)\n",
    "        \n",
    "        if x[0] > 6 :\n",
    "            x[0] = 6\n",
    "        if x[0] < -6 :\n",
    "            x[0] - 6\n",
    "        if x[0] > 6 :\n",
    "            x[0] = 6\n",
    "        if x[0] < -6 :\n",
    "            x[0] - 6\n",
    "        new_y = objective(new_i,new_j)\n",
    "        df = new_y - temp\n",
    "        if(df<0):\n",
    "            x[0] = new_i\n",
    "            x[1] = new_j\n",
    "            temp = new_y\n",
    "        if (obj > new_y):\n",
    "            obj = new_y\n",
    "            t+=1                            \n",
    "        elif(df>0):\n",
    "            r = rd.random()\n",
    "            p = round(2.71828**(-df/(temp)),5)\n",
    "            if(p > r):\n",
    "                x[0] = new_i\n",
    "                x[1] = new_j\n",
    "                temp = new_y\n",
    "                t+=1\n",
    "        if (t>=3):\n",
    "            temp = temp/2\n",
    "            t=0\n",
    "        \n",
    "        \n",
    "    return obj\n",
    "    print(\"iterationT:\",i,\"optimal:\",obj)\n",
    "StimulatedAnnealing()"
   ]
  },
  {
   "cell_type": "code",
   "execution_count": null,
   "metadata": {
    "id": "pZp_X-lQmKgG"
   },
   "outputs": [],
   "source": []
  }
 ],
 "metadata": {
  "colab": {
   "collapsed_sections": [],
   "name": "R09946019_HW1",
   "provenance": []
  },
  "kernelspec": {
   "display_name": "Python 3",
   "language": "python",
   "name": "python3"
  },
  "language_info": {
   "codemirror_mode": {
    "name": "ipython",
    "version": 3
   },
   "file_extension": ".py",
   "mimetype": "text/x-python",
   "name": "python",
   "nbconvert_exporter": "python",
   "pygments_lexer": "ipython3",
   "version": "3.8.5"
  }
 },
 "nbformat": 4,
 "nbformat_minor": 1
}
